{
 "cells": [
  {
   "cell_type": "markdown",
   "metadata": {},
   "source": [
    "# Признаки, основанные на временных данных"
   ]
  },
  {
   "cell_type": "code",
   "execution_count": 16,
   "metadata": {},
   "outputs": [],
   "source": [
    "import pandas as pd\n",
    "import numpy as np\n",
    "import os\n",
    "import datetime\n",
    "from matplotlib import pyplot as plt\n",
    "import seaborn as sns\n",
    "import scipy.stats as stats\n",
    "%matplotlib inline\n",
    "import warnings\n",
    "warnings.filterwarnings('ignore')\n",
    "\n",
    "pd.set_option('display.max_columns', 50)\n",
    "\n",
    "PATH_TO_DATA = 'data/'\n",
    "train = pd.read_csv(os.path.join(PATH_TO_DATA, 'onetwotrip_challenge_train.csv'))\n",
    "test = pd.read_csv(os.path.join(PATH_TO_DATA, 'onetwotrip_challenge_test.csv'))"
   ]
  },
  {
   "cell_type": "markdown",
   "metadata": {},
   "source": [
    "Выберем одного пользователя с наибольшим количеством покупок и возьмем только необходимые временные признаки. Поменяем названия для удобства и отсортируем по field4 (номер покупки)."
   ]
  },
  {
   "cell_type": "code",
   "execution_count": 17,
   "metadata": {},
   "outputs": [
    {
     "data": {
      "text/html": [
       "<div>\n",
       "<style scoped>\n",
       "    .dataframe tbody tr th:only-of-type {\n",
       "        vertical-align: middle;\n",
       "    }\n",
       "\n",
       "    .dataframe tbody tr th {\n",
       "        vertical-align: top;\n",
       "    }\n",
       "\n",
       "    .dataframe thead th {\n",
       "        text-align: right;\n",
       "    }\n",
       "</style>\n",
       "<table border=\"1\" class=\"dataframe\">\n",
       "  <thead>\n",
       "    <tr style=\"text-align: right;\">\n",
       "      <th></th>\n",
       "      <th>month_buy</th>\n",
       "      <th>month_fly</th>\n",
       "      <th>weekday_buy</th>\n",
       "      <th>weekday_fly</th>\n",
       "      <th>delta_buy_buy</th>\n",
       "      <th>delta_fly_buy</th>\n",
       "    </tr>\n",
       "  </thead>\n",
       "  <tbody>\n",
       "    <tr>\n",
       "      <td>162877</td>\n",
       "      <td>6</td>\n",
       "      <td>6</td>\n",
       "      <td>2</td>\n",
       "      <td>3</td>\n",
       "      <td>0</td>\n",
       "      <td>1</td>\n",
       "    </tr>\n",
       "    <tr>\n",
       "      <td>125446</td>\n",
       "      <td>6</td>\n",
       "      <td>6</td>\n",
       "      <td>2</td>\n",
       "      <td>3</td>\n",
       "      <td>0</td>\n",
       "      <td>1</td>\n",
       "    </tr>\n",
       "    <tr>\n",
       "      <td>39421</td>\n",
       "      <td>6</td>\n",
       "      <td>6</td>\n",
       "      <td>2</td>\n",
       "      <td>3</td>\n",
       "      <td>0</td>\n",
       "      <td>1</td>\n",
       "    </tr>\n",
       "    <tr>\n",
       "      <td>174386</td>\n",
       "      <td>6</td>\n",
       "      <td>6</td>\n",
       "      <td>4</td>\n",
       "      <td>1</td>\n",
       "      <td>16</td>\n",
       "      <td>4</td>\n",
       "    </tr>\n",
       "    <tr>\n",
       "      <td>83155</td>\n",
       "      <td>6</td>\n",
       "      <td>6</td>\n",
       "      <td>4</td>\n",
       "      <td>2</td>\n",
       "      <td>0</td>\n",
       "      <td>5</td>\n",
       "    </tr>\n",
       "    <tr>\n",
       "      <td>186621</td>\n",
       "      <td>6</td>\n",
       "      <td>6</td>\n",
       "      <td>5</td>\n",
       "      <td>3</td>\n",
       "      <td>1</td>\n",
       "      <td>5</td>\n",
       "    </tr>\n",
       "    <tr>\n",
       "      <td>102930</td>\n",
       "      <td>6</td>\n",
       "      <td>6</td>\n",
       "      <td>5</td>\n",
       "      <td>6</td>\n",
       "      <td>0</td>\n",
       "      <td>8</td>\n",
       "    </tr>\n",
       "    <tr>\n",
       "      <td>189031</td>\n",
       "      <td>6</td>\n",
       "      <td>6</td>\n",
       "      <td>1</td>\n",
       "      <td>4</td>\n",
       "      <td>3</td>\n",
       "      <td>3</td>\n",
       "    </tr>\n",
       "    <tr>\n",
       "      <td>177676</td>\n",
       "      <td>6</td>\n",
       "      <td>6</td>\n",
       "      <td>1</td>\n",
       "      <td>5</td>\n",
       "      <td>0</td>\n",
       "      <td>4</td>\n",
       "    </tr>\n",
       "    <tr>\n",
       "      <td>74136</td>\n",
       "      <td>6</td>\n",
       "      <td>7</td>\n",
       "      <td>1</td>\n",
       "      <td>2</td>\n",
       "      <td>0</td>\n",
       "      <td>8</td>\n",
       "    </tr>\n",
       "  </tbody>\n",
       "</table>\n",
       "</div>"
      ],
      "text/plain": [
       "        month_buy  month_fly  weekday_buy  weekday_fly  delta_buy_buy  \\\n",
       "162877          6          6            2            3              0   \n",
       "125446          6          6            2            3              0   \n",
       "39421           6          6            2            3              0   \n",
       "174386          6          6            4            1             16   \n",
       "83155           6          6            4            2              0   \n",
       "186621          6          6            5            3              1   \n",
       "102930          6          6            5            6              0   \n",
       "189031          6          6            1            4              3   \n",
       "177676          6          6            1            5              0   \n",
       "74136           6          7            1            2              0   \n",
       "\n",
       "        delta_fly_buy  \n",
       "162877              1  \n",
       "125446              1  \n",
       "39421               1  \n",
       "174386              4  \n",
       "83155               5  \n",
       "186621              5  \n",
       "102930              8  \n",
       "189031              3  \n",
       "177676              4  \n",
       "74136               8  "
      ]
     },
     "execution_count": 17,
     "metadata": {},
     "output_type": "execute_result"
    }
   ],
   "source": [
    "user_id = train['userid'].value_counts().index[0]\n",
    "\n",
    "user = train[train['userid'] == user_id]\n",
    "user.sort_values(by=['field4'], inplace=True)\n",
    "\n",
    "user_date = user[['field2', 'field3', 'field18', 'field20', 'field0', 'field16']]\n",
    "user_date.columns = ['month_buy', 'month_fly', 'weekday_buy', 'weekday_fly', 'delta_buy_buy', 'delta_fly_buy']\n",
    "user_date.head(10)"
   ]
  },
  {
   "cell_type": "markdown",
   "metadata": {},
   "source": [
    "- delta_buy_buy - количество дней прошедших с предыдущей покупки\n",
    "- delta_fly_buy - количество дней с момента покупки до момента вылета"
   ]
  },
  {
   "cell_type": "markdown",
   "metadata": {},
   "source": [
    "Попробуем извлечь из этих признаков больше информации.  \n",
    "\n",
    "Далее буду использовать следующие сокращения:\n",
    "- $\\Delta^{bb}_i$ - delta_buy_buy[ i ]\n",
    "- $\\Delta^{fb}_i$ - delta_fly_buy[ i ]\n",
    "- $\\Delta^{fb_0}_i$ - delta_fly[ i ],  количество дней с момента первой покупки до n-ого полета\n",
    "\n",
    "\n",
    "Мы можем вычислить количество дней с момента первой покупки до n-ого полета:\n",
    "\n",
    "$\\Delta^{fb_0}_0 = \\Delta^{fb}_0$  \n",
    "$\\Delta^{fb_0}_1 = \\Delta^{fb}_1 + \\Delta^{bb}_1$  \n",
    "$\\Delta^{fb_0}_2 = \\Delta^{fb}_2 + \\Delta^{bb}_1 + \\Delta^{bb}_2$  \n",
    "...  \n",
    "$\\Delta^{fb_0}_i = \\Delta^{fb}_i + \\sum_{1}^{i}\\Delta^{bb}_i$"
   ]
  },
  {
   "attachments": {},
   "cell_type": "markdown",
   "metadata": {},
   "source": [
    "![delta.jpg](delta.jpg)"
   ]
  },
  {
   "cell_type": "markdown",
   "metadata": {},
   "source": [
    "Для нахождения delta_fly посчитаем кумулятивную сумму delta_buy_buy"
   ]
  },
  {
   "cell_type": "code",
   "execution_count": 19,
   "metadata": {},
   "outputs": [],
   "source": [
    "user_date['cumsum_delta_buy_buy'] = np.cumsum(user_date['delta_buy_buy'])\n",
    "user_date['delta_fly'] = user_date['cumsum_delta_buy_buy'] + user_date['delta_fly_buy']"
   ]
  },
  {
   "cell_type": "code",
   "execution_count": 27,
   "metadata": {},
   "outputs": [
    {
     "data": {
      "text/html": [
       "<div>\n",
       "<style scoped>\n",
       "    .dataframe tbody tr th:only-of-type {\n",
       "        vertical-align: middle;\n",
       "    }\n",
       "\n",
       "    .dataframe tbody tr th {\n",
       "        vertical-align: top;\n",
       "    }\n",
       "\n",
       "    .dataframe thead th {\n",
       "        text-align: right;\n",
       "    }\n",
       "</style>\n",
       "<table border=\"1\" class=\"dataframe\">\n",
       "  <thead>\n",
       "    <tr style=\"text-align: right;\">\n",
       "      <th></th>\n",
       "      <th>delta_buy_buy</th>\n",
       "      <th>cumsum_delta_buy_buy</th>\n",
       "      <th>delta_fly_buy</th>\n",
       "      <th>delta_fly</th>\n",
       "    </tr>\n",
       "  </thead>\n",
       "  <tbody>\n",
       "    <tr>\n",
       "      <td>162877</td>\n",
       "      <td>0</td>\n",
       "      <td>0</td>\n",
       "      <td>1</td>\n",
       "      <td>1</td>\n",
       "    </tr>\n",
       "    <tr>\n",
       "      <td>125446</td>\n",
       "      <td>0</td>\n",
       "      <td>0</td>\n",
       "      <td>1</td>\n",
       "      <td>1</td>\n",
       "    </tr>\n",
       "    <tr>\n",
       "      <td>39421</td>\n",
       "      <td>0</td>\n",
       "      <td>0</td>\n",
       "      <td>1</td>\n",
       "      <td>1</td>\n",
       "    </tr>\n",
       "    <tr>\n",
       "      <td>174386</td>\n",
       "      <td>16</td>\n",
       "      <td>16</td>\n",
       "      <td>4</td>\n",
       "      <td>20</td>\n",
       "    </tr>\n",
       "    <tr>\n",
       "      <td>83155</td>\n",
       "      <td>0</td>\n",
       "      <td>16</td>\n",
       "      <td>5</td>\n",
       "      <td>21</td>\n",
       "    </tr>\n",
       "    <tr>\n",
       "      <td>186621</td>\n",
       "      <td>1</td>\n",
       "      <td>17</td>\n",
       "      <td>5</td>\n",
       "      <td>22</td>\n",
       "    </tr>\n",
       "    <tr>\n",
       "      <td>102930</td>\n",
       "      <td>0</td>\n",
       "      <td>17</td>\n",
       "      <td>8</td>\n",
       "      <td>25</td>\n",
       "    </tr>\n",
       "    <tr>\n",
       "      <td>189031</td>\n",
       "      <td>3</td>\n",
       "      <td>20</td>\n",
       "      <td>3</td>\n",
       "      <td>23</td>\n",
       "    </tr>\n",
       "    <tr>\n",
       "      <td>177676</td>\n",
       "      <td>0</td>\n",
       "      <td>20</td>\n",
       "      <td>4</td>\n",
       "      <td>24</td>\n",
       "    </tr>\n",
       "    <tr>\n",
       "      <td>74136</td>\n",
       "      <td>0</td>\n",
       "      <td>20</td>\n",
       "      <td>8</td>\n",
       "      <td>28</td>\n",
       "    </tr>\n",
       "  </tbody>\n",
       "</table>\n",
       "</div>"
      ],
      "text/plain": [
       "        delta_buy_buy  cumsum_delta_buy_buy  delta_fly_buy  delta_fly\n",
       "162877              0                     0              1          1\n",
       "125446              0                     0              1          1\n",
       "39421               0                     0              1          1\n",
       "174386             16                    16              4         20\n",
       "83155               0                    16              5         21\n",
       "186621              1                    17              5         22\n",
       "102930              0                    17              8         25\n",
       "189031              3                    20              3         23\n",
       "177676              0                    20              4         24\n",
       "74136               0                    20              8         28"
      ]
     },
     "execution_count": 27,
     "metadata": {},
     "output_type": "execute_result"
    }
   ],
   "source": [
    "user_date[['delta_buy_buy', 'cumsum_delta_buy_buy', 'delta_fly_buy','delta_fly']].head(10)"
   ]
  },
  {
   "cell_type": "markdown",
   "metadata": {},
   "source": [
    "Теперь мы можем найти дельту между датой покупаемого рейса и предыдущего рейса"
   ]
  },
  {
   "cell_type": "code",
   "execution_count": 42,
   "metadata": {},
   "outputs": [],
   "source": [
    "delta_fly = np.asarray(user_date['delta_fly'])\n",
    "delta_fly.sort()\n",
    "delta_ff = np.append(0, delta_fly[1:] - delta_fly[:-1])\n",
    "delta_ff_dict = dict(zip(delta_fly, delta_ff))\n",
    "user_date['delta_fly_fly'] = user_date['delta_fly'].apply(lambda x: delta_ff_dict[x])"
   ]
  },
  {
   "cell_type": "code",
   "execution_count": 44,
   "metadata": {},
   "outputs": [
    {
     "data": {
      "text/html": [
       "<div>\n",
       "<style scoped>\n",
       "    .dataframe tbody tr th:only-of-type {\n",
       "        vertical-align: middle;\n",
       "    }\n",
       "\n",
       "    .dataframe tbody tr th {\n",
       "        vertical-align: top;\n",
       "    }\n",
       "\n",
       "    .dataframe thead th {\n",
       "        text-align: right;\n",
       "    }\n",
       "</style>\n",
       "<table border=\"1\" class=\"dataframe\">\n",
       "  <thead>\n",
       "    <tr style=\"text-align: right;\">\n",
       "      <th></th>\n",
       "      <th>month_buy</th>\n",
       "      <th>month_fly</th>\n",
       "      <th>weekday_buy</th>\n",
       "      <th>weekday_fly</th>\n",
       "      <th>delta_buy_buy</th>\n",
       "      <th>delta_fly_buy</th>\n",
       "      <th>cumsum_delta_buy_buy</th>\n",
       "      <th>delta_fly</th>\n",
       "      <th>delta_fly_fly</th>\n",
       "    </tr>\n",
       "  </thead>\n",
       "  <tbody>\n",
       "    <tr>\n",
       "      <td>162877</td>\n",
       "      <td>6</td>\n",
       "      <td>6</td>\n",
       "      <td>2</td>\n",
       "      <td>3</td>\n",
       "      <td>0</td>\n",
       "      <td>1</td>\n",
       "      <td>0</td>\n",
       "      <td>1</td>\n",
       "      <td>0</td>\n",
       "    </tr>\n",
       "    <tr>\n",
       "      <td>125446</td>\n",
       "      <td>6</td>\n",
       "      <td>6</td>\n",
       "      <td>2</td>\n",
       "      <td>3</td>\n",
       "      <td>0</td>\n",
       "      <td>1</td>\n",
       "      <td>0</td>\n",
       "      <td>1</td>\n",
       "      <td>0</td>\n",
       "    </tr>\n",
       "    <tr>\n",
       "      <td>39421</td>\n",
       "      <td>6</td>\n",
       "      <td>6</td>\n",
       "      <td>2</td>\n",
       "      <td>3</td>\n",
       "      <td>0</td>\n",
       "      <td>1</td>\n",
       "      <td>0</td>\n",
       "      <td>1</td>\n",
       "      <td>0</td>\n",
       "    </tr>\n",
       "    <tr>\n",
       "      <td>174386</td>\n",
       "      <td>6</td>\n",
       "      <td>6</td>\n",
       "      <td>4</td>\n",
       "      <td>1</td>\n",
       "      <td>16</td>\n",
       "      <td>4</td>\n",
       "      <td>16</td>\n",
       "      <td>20</td>\n",
       "      <td>19</td>\n",
       "    </tr>\n",
       "    <tr>\n",
       "      <td>83155</td>\n",
       "      <td>6</td>\n",
       "      <td>6</td>\n",
       "      <td>4</td>\n",
       "      <td>2</td>\n",
       "      <td>0</td>\n",
       "      <td>5</td>\n",
       "      <td>16</td>\n",
       "      <td>21</td>\n",
       "      <td>1</td>\n",
       "    </tr>\n",
       "    <tr>\n",
       "      <td>186621</td>\n",
       "      <td>6</td>\n",
       "      <td>6</td>\n",
       "      <td>5</td>\n",
       "      <td>3</td>\n",
       "      <td>1</td>\n",
       "      <td>5</td>\n",
       "      <td>17</td>\n",
       "      <td>22</td>\n",
       "      <td>0</td>\n",
       "    </tr>\n",
       "    <tr>\n",
       "      <td>102930</td>\n",
       "      <td>6</td>\n",
       "      <td>6</td>\n",
       "      <td>5</td>\n",
       "      <td>6</td>\n",
       "      <td>0</td>\n",
       "      <td>8</td>\n",
       "      <td>17</td>\n",
       "      <td>22</td>\n",
       "      <td>0</td>\n",
       "    </tr>\n",
       "    <tr>\n",
       "      <td>189031</td>\n",
       "      <td>6</td>\n",
       "      <td>6</td>\n",
       "      <td>1</td>\n",
       "      <td>4</td>\n",
       "      <td>3</td>\n",
       "      <td>3</td>\n",
       "      <td>20</td>\n",
       "      <td>23</td>\n",
       "      <td>0</td>\n",
       "    </tr>\n",
       "    <tr>\n",
       "      <td>177676</td>\n",
       "      <td>6</td>\n",
       "      <td>6</td>\n",
       "      <td>1</td>\n",
       "      <td>5</td>\n",
       "      <td>0</td>\n",
       "      <td>4</td>\n",
       "      <td>20</td>\n",
       "      <td>23</td>\n",
       "      <td>0</td>\n",
       "    </tr>\n",
       "    <tr>\n",
       "      <td>74136</td>\n",
       "      <td>6</td>\n",
       "      <td>7</td>\n",
       "      <td>1</td>\n",
       "      <td>2</td>\n",
       "      <td>0</td>\n",
       "      <td>8</td>\n",
       "      <td>20</td>\n",
       "      <td>24</td>\n",
       "      <td>1</td>\n",
       "    </tr>\n",
       "  </tbody>\n",
       "</table>\n",
       "</div>"
      ],
      "text/plain": [
       "        month_buy  month_fly  weekday_buy  weekday_fly  delta_buy_buy  \\\n",
       "162877          6          6            2            3              0   \n",
       "125446          6          6            2            3              0   \n",
       "39421           6          6            2            3              0   \n",
       "174386          6          6            4            1             16   \n",
       "83155           6          6            4            2              0   \n",
       "186621          6          6            5            3              1   \n",
       "102930          6          6            5            6              0   \n",
       "189031          6          6            1            4              3   \n",
       "177676          6          6            1            5              0   \n",
       "74136           6          7            1            2              0   \n",
       "\n",
       "        delta_fly_buy  cumsum_delta_buy_buy  delta_fly  delta_fly_fly  \n",
       "162877              1                     0          1              0  \n",
       "125446              1                     0          1              0  \n",
       "39421               1                     0          1              0  \n",
       "174386              4                    16         20             19  \n",
       "83155               5                    16         21              1  \n",
       "186621              5                    17         22              0  \n",
       "102930              8                    17         22              0  \n",
       "189031              3                    20         23              0  \n",
       "177676              4                    20         23              0  \n",
       "74136               8                    20         24              1  "
      ]
     },
     "execution_count": 44,
     "metadata": {},
     "output_type": "execute_result"
    }
   ],
   "source": [
    "user_date.head(10)"
   ]
  },
  {
   "cell_type": "markdown",
   "metadata": {},
   "source": [
    "Теперь мы знаем, сколько еще покупок было сделано на такую же дату вылета.  \n",
    "И можем, например, посчитать, сколько покупок было сделано в этот день, следующий и предыдущий."
   ]
  },
  {
   "cell_type": "code",
   "execution_count": 48,
   "metadata": {},
   "outputs": [],
   "source": [
    "val_counts = user_date['delta_fly'].value_counts()\n",
    "unique = val_counts.index\n",
    "\n",
    "new_val_counts = dict()\n",
    "for i in unique:\n",
    "    new_val_counts[i] = val_counts.get(i - 1, 0) + val_counts.get(i, 0) + val_counts.get(i + 1, 0)\n",
    "    \n",
    "user_date['quantity_buy_one_day'] = user_date['delta_fly'].apply(lambda x: val_counts[x])\n",
    "user_date['quantity_buy_one_day_3'] = user_date['delta_fly'].apply(lambda x: new_val_counts[x])"
   ]
  },
  {
   "cell_type": "code",
   "execution_count": 49,
   "metadata": {},
   "outputs": [
    {
     "data": {
      "text/html": [
       "<div>\n",
       "<style scoped>\n",
       "    .dataframe tbody tr th:only-of-type {\n",
       "        vertical-align: middle;\n",
       "    }\n",
       "\n",
       "    .dataframe tbody tr th {\n",
       "        vertical-align: top;\n",
       "    }\n",
       "\n",
       "    .dataframe thead th {\n",
       "        text-align: right;\n",
       "    }\n",
       "</style>\n",
       "<table border=\"1\" class=\"dataframe\">\n",
       "  <thead>\n",
       "    <tr style=\"text-align: right;\">\n",
       "      <th></th>\n",
       "      <th>month_buy</th>\n",
       "      <th>month_fly</th>\n",
       "      <th>weekday_buy</th>\n",
       "      <th>weekday_fly</th>\n",
       "      <th>delta_buy_buy</th>\n",
       "      <th>delta_fly_buy</th>\n",
       "      <th>cumsum_delta_buy_buy</th>\n",
       "      <th>delta_fly</th>\n",
       "      <th>delta_fly_fly</th>\n",
       "      <th>quantity_buy_one_day</th>\n",
       "      <th>quantity_buy_one_day_3</th>\n",
       "    </tr>\n",
       "  </thead>\n",
       "  <tbody>\n",
       "    <tr>\n",
       "      <td>162877</td>\n",
       "      <td>6</td>\n",
       "      <td>6</td>\n",
       "      <td>2</td>\n",
       "      <td>3</td>\n",
       "      <td>0</td>\n",
       "      <td>1</td>\n",
       "      <td>0</td>\n",
       "      <td>1</td>\n",
       "      <td>0</td>\n",
       "      <td>3</td>\n",
       "      <td>3</td>\n",
       "    </tr>\n",
       "    <tr>\n",
       "      <td>125446</td>\n",
       "      <td>6</td>\n",
       "      <td>6</td>\n",
       "      <td>2</td>\n",
       "      <td>3</td>\n",
       "      <td>0</td>\n",
       "      <td>1</td>\n",
       "      <td>0</td>\n",
       "      <td>1</td>\n",
       "      <td>0</td>\n",
       "      <td>3</td>\n",
       "      <td>3</td>\n",
       "    </tr>\n",
       "    <tr>\n",
       "      <td>39421</td>\n",
       "      <td>6</td>\n",
       "      <td>6</td>\n",
       "      <td>2</td>\n",
       "      <td>3</td>\n",
       "      <td>0</td>\n",
       "      <td>1</td>\n",
       "      <td>0</td>\n",
       "      <td>1</td>\n",
       "      <td>0</td>\n",
       "      <td>3</td>\n",
       "      <td>3</td>\n",
       "    </tr>\n",
       "    <tr>\n",
       "      <td>174386</td>\n",
       "      <td>6</td>\n",
       "      <td>6</td>\n",
       "      <td>4</td>\n",
       "      <td>1</td>\n",
       "      <td>16</td>\n",
       "      <td>4</td>\n",
       "      <td>16</td>\n",
       "      <td>20</td>\n",
       "      <td>19</td>\n",
       "      <td>1</td>\n",
       "      <td>2</td>\n",
       "    </tr>\n",
       "    <tr>\n",
       "      <td>83155</td>\n",
       "      <td>6</td>\n",
       "      <td>6</td>\n",
       "      <td>4</td>\n",
       "      <td>2</td>\n",
       "      <td>0</td>\n",
       "      <td>5</td>\n",
       "      <td>16</td>\n",
       "      <td>21</td>\n",
       "      <td>1</td>\n",
       "      <td>1</td>\n",
       "      <td>4</td>\n",
       "    </tr>\n",
       "    <tr>\n",
       "      <td>186621</td>\n",
       "      <td>6</td>\n",
       "      <td>6</td>\n",
       "      <td>5</td>\n",
       "      <td>3</td>\n",
       "      <td>1</td>\n",
       "      <td>5</td>\n",
       "      <td>17</td>\n",
       "      <td>22</td>\n",
       "      <td>0</td>\n",
       "      <td>2</td>\n",
       "      <td>5</td>\n",
       "    </tr>\n",
       "    <tr>\n",
       "      <td>102930</td>\n",
       "      <td>6</td>\n",
       "      <td>6</td>\n",
       "      <td>5</td>\n",
       "      <td>6</td>\n",
       "      <td>0</td>\n",
       "      <td>8</td>\n",
       "      <td>17</td>\n",
       "      <td>22</td>\n",
       "      <td>0</td>\n",
       "      <td>2</td>\n",
       "      <td>5</td>\n",
       "    </tr>\n",
       "    <tr>\n",
       "      <td>189031</td>\n",
       "      <td>6</td>\n",
       "      <td>6</td>\n",
       "      <td>1</td>\n",
       "      <td>4</td>\n",
       "      <td>3</td>\n",
       "      <td>3</td>\n",
       "      <td>20</td>\n",
       "      <td>23</td>\n",
       "      <td>0</td>\n",
       "      <td>2</td>\n",
       "      <td>5</td>\n",
       "    </tr>\n",
       "    <tr>\n",
       "      <td>177676</td>\n",
       "      <td>6</td>\n",
       "      <td>6</td>\n",
       "      <td>1</td>\n",
       "      <td>5</td>\n",
       "      <td>0</td>\n",
       "      <td>4</td>\n",
       "      <td>20</td>\n",
       "      <td>23</td>\n",
       "      <td>0</td>\n",
       "      <td>2</td>\n",
       "      <td>5</td>\n",
       "    </tr>\n",
       "    <tr>\n",
       "      <td>74136</td>\n",
       "      <td>6</td>\n",
       "      <td>7</td>\n",
       "      <td>1</td>\n",
       "      <td>2</td>\n",
       "      <td>0</td>\n",
       "      <td>8</td>\n",
       "      <td>20</td>\n",
       "      <td>24</td>\n",
       "      <td>1</td>\n",
       "      <td>1</td>\n",
       "      <td>4</td>\n",
       "    </tr>\n",
       "  </tbody>\n",
       "</table>\n",
       "</div>"
      ],
      "text/plain": [
       "        month_buy  month_fly  weekday_buy  weekday_fly  delta_buy_buy  \\\n",
       "162877          6          6            2            3              0   \n",
       "125446          6          6            2            3              0   \n",
       "39421           6          6            2            3              0   \n",
       "174386          6          6            4            1             16   \n",
       "83155           6          6            4            2              0   \n",
       "186621          6          6            5            3              1   \n",
       "102930          6          6            5            6              0   \n",
       "189031          6          6            1            4              3   \n",
       "177676          6          6            1            5              0   \n",
       "74136           6          7            1            2              0   \n",
       "\n",
       "        delta_fly_buy  cumsum_delta_buy_buy  delta_fly  delta_fly_fly  \\\n",
       "162877              1                     0          1              0   \n",
       "125446              1                     0          1              0   \n",
       "39421               1                     0          1              0   \n",
       "174386              4                    16         20             19   \n",
       "83155               5                    16         21              1   \n",
       "186621              5                    17         22              0   \n",
       "102930              8                    17         22              0   \n",
       "189031              3                    20         23              0   \n",
       "177676              4                    20         23              0   \n",
       "74136               8                    20         24              1   \n",
       "\n",
       "        quantity_buy_one_day  quantity_buy_one_day_3  \n",
       "162877                     3                       3  \n",
       "125446                     3                       3  \n",
       "39421                      3                       3  \n",
       "174386                     1                       2  \n",
       "83155                      1                       4  \n",
       "186621                     2                       5  \n",
       "102930                     2                       5  \n",
       "189031                     2                       5  \n",
       "177676                     2                       5  \n",
       "74136                      1                       4  "
      ]
     },
     "execution_count": 49,
     "metadata": {},
     "output_type": "execute_result"
    }
   ],
   "source": [
    "user_date.head(10)"
   ]
  },
  {
   "cell_type": "markdown",
   "metadata": {},
   "source": [
    "С помощью этого признака мы хотим отлавливать события, когда человек покупает несколько билетов. Но в теории может быть, что человек часто делает несколько покупок на один рейс. Поэтому введем еще один признак, который будет учитывать среднее количество билетов на один день."
   ]
  },
  {
   "cell_type": "code",
   "execution_count": 50,
   "metadata": {},
   "outputs": [],
   "source": [
    "mean_count = np.asarray(list(new_val_counts.values())).mean()\n",
    "k = len(new_val_counts)\n",
    "mean_count = (mean_count * k + 1 * 5) / (k + 5)\n",
    "\n",
    "user_date['quantity_buy_one_day_averaged'] = user_date['delta_fly'].apply(lambda x: new_val_counts[x]) / mean_count"
   ]
  },
  {
   "cell_type": "markdown",
   "metadata": {},
   "source": [
    "Проверим полученные фичи на выборке с людьми, у которых больше трех покупок. (Меньше будет долго считаться)"
   ]
  },
  {
   "cell_type": "code",
   "execution_count": 55,
   "metadata": {},
   "outputs": [
    {
     "data": {
      "text/plain": [
       "(55318, 44)"
      ]
     },
     "execution_count": 55,
     "metadata": {},
     "output_type": "execute_result"
    }
   ],
   "source": [
    "flight_quantity = dict(train['userid'].value_counts())\n",
    "train['buy_quantity'] = train['userid'].apply(lambda x: flight_quantity[x])\n",
    "\n",
    "train_part = train[(train['buy_quantity'] > 3)]\n",
    "train_part.shape"
   ]
  },
  {
   "cell_type": "code",
   "execution_count": 68,
   "metadata": {},
   "outputs": [
    {
     "name": "stdout",
     "output_type": "stream",
     "text": [
      "CPU times: user 21min 20s, sys: 2min 34s, total: 23min 55s\n",
      "Wall time: 6min 38s\n"
     ]
    }
   ],
   "source": [
    "%%time\n",
    "\n",
    "users_id = np.unique(train_part['userid'])\n",
    "\n",
    "train_new = pd.DataFrame()\n",
    "for user_id in users_id:\n",
    "    user = train[train['userid'] == user_id]\n",
    "    user.sort_values(by=['field4'], inplace=True)\n",
    "    \n",
    "    user.rename(columns={'field0': 'delta_buy_buy', 'field2': 'month_buy', 'field3': 'month_fly', \n",
    "                    'field18': 'weekday_buy', 'field20': 'weekday_fly', 'field16': 'delta_fly_buy'}, inplace=True)\n",
    "    \n",
    "    user['cumsum_delta_buy_buy'] = np.cumsum(user['delta_buy_buy'])\n",
    "    user['delta_fly'] = user['cumsum_delta_buy_buy'] + user['delta_fly_buy']\n",
    "    \n",
    "    val_counts = user['delta_fly'].value_counts()\n",
    "    unique = val_counts.index\n",
    "    new_val_counts = dict()\n",
    "    for i in unique:\n",
    "        new_val_counts[i] = val_counts.get(i - 1, 0) + val_counts.get(i, 0) + val_counts.get(i + 1, 0)\n",
    "    \n",
    "    user['quantity_buy_one_day'] = user['delta_fly'].apply(lambda x: val_counts[x])\n",
    "    user['quantity_buy_one_day_3'] = user['delta_fly'].apply(lambda x: new_val_counts[x])\n",
    "    \n",
    "    mean_count = np.asarray(list(new_val_counts.values())).mean()\n",
    "    user['mean_quantity_buy_one_day'] = mean_count\n",
    "    k = len(new_val_counts)\n",
    "    mean_count = (mean_count * k + 1 * 5) / (k + 5)\n",
    "    \n",
    "    user['quantity_buy_one_day_averaged'] = user['delta_fly'].apply(lambda x: new_val_counts[x]) / mean_count\n",
    "    \n",
    "    delta_fly = np.asarray(user['delta_fly'])\n",
    "    delta_fly.sort()\n",
    "    delta_ff = np.append(0, delta_fly[1:] - delta_fly[:-1])\n",
    "    delta_ff_dict = dict(zip(delta_fly, delta_ff))\n",
    "    user['delta_fly_fly'] = user['delta_fly'].apply(lambda x: delta_ff_dict[x])\n",
    "\n",
    "    train_new = pd.concat([train_new, user])"
   ]
  },
  {
   "cell_type": "code",
   "execution_count": 69,
   "metadata": {},
   "outputs": [],
   "source": [
    "def plot_distribution(df, var, target, **kwargs):\n",
    "    row = kwargs.get('row', None)\n",
    "    col = kwargs.get('col', None)\n",
    "    facet = sns.FacetGrid(df, hue = target, aspect = 4, row = row, col = col)\n",
    "    facet.map(sns.kdeplot, var, shade = True)\n",
    "    facet.set(xlim = (df[var].min(), df[var].max()))\n",
    "    facet.add_legend()\n",
    "    plt.show()"
   ]
  },
  {
   "cell_type": "code",
   "execution_count": 70,
   "metadata": {},
   "outputs": [
    {
     "data": {
      "image/png": "[encoded data removed]",
      "text/plain": [
       "<Figure size 906.375x216 with 1 Axes>"
      ]
     },
     "metadata": {
      "needs_background": "light"
     },
     "output_type": "display_data"
    },
    {
     "data": {
      "image/png": "[encoded data removed]",
      "text/plain": [
       "<Figure size 906.375x216 with 1 Axes>"
      ]
     },
     "metadata": {
      "needs_background": "light"
     },
     "output_type": "display_data"
    },
    {
     "data": {
      "image/png": "[encoded data removed]",
      "text/plain": [
       "<Figure size 906.375x216 with 1 Axes>"
      ]
     },
     "metadata": {
      "needs_background": "light"
     },
     "output_type": "display_data"
    }
   ],
   "source": [
    "plot_distribution(train_new, 'quantity_buy_one_day_averaged', 'goal1')\n",
    "plot_distribution(train_new, 'quantity_buy_one_day_3', 'goal1')\n",
    "plot_distribution(train_new, 'quantity_buy_one_day', 'goal1')"
   ]
  },
  {
   "cell_type": "code",
   "execution_count": 76,
   "metadata": {},
   "outputs": [
    {
     "data": {
      "image/png": "[encoded data removed]",
      "text/plain": [
       "<Figure size 906.375x216 with 1 Axes>"
      ]
     },
     "metadata": {
      "needs_background": "light"
     },
     "output_type": "display_data"
    }
   ],
   "source": [
    "plot_distribution(train_new, 'delta_fly_fly', 'goal1')"
   ]
  },
  {
   "cell_type": "code",
   "execution_count": 72,
   "metadata": {},
   "outputs": [
    {
     "data": {
      "image/png": "[encoded data removed]",
      "text/plain": [
       "<Figure size 906.375x216 with 1 Axes>"
      ]
     },
     "metadata": {
      "needs_background": "light"
     },
     "output_type": "display_data"
    }
   ],
   "source": [
    "train_new['ratio_delta1'] = (np.log(train_new['delta_fly_buy'] + 1) - np.log(train_new['delta_fly_fly'] + 1))\n",
    "plot_distribution(train_new, 'ratio_delta1', 'goal1')"
   ]
  },
  {
   "cell_type": "code",
   "execution_count": 74,
   "metadata": {},
   "outputs": [
    {
     "data": {
      "image/png": "[encoded data removed]",
      "text/plain": [
       "<Figure size 906.375x216 with 1 Axes>"
      ]
     },
     "metadata": {
      "needs_background": "light"
     },
     "output_type": "display_data"
    }
   ],
   "source": [
    "train_new['ratio_delta2'] = (np.log(train_new['quantity_buy_one_day'] + 1) - np.log(train_new['delta_fly_buy'] + 1))\n",
    "plot_distribution(train_new, 'ratio_delta2', 'goal1')"
   ]
  },
  {
   "cell_type": "code",
   "execution_count": 75,
   "metadata": {},
   "outputs": [
    {
     "data": {
      "image/png": "[encoded data removed]",
      "text/plain": [
       "<Figure size 906.375x216 with 1 Axes>"
      ]
     },
     "metadata": {
      "needs_background": "light"
     },
     "output_type": "display_data"
    }
   ],
   "source": [
    "plot_distribution(train_new, 'delta_fly', 'goal1')"
   ]
  }
 ],
 "metadata": {
  "kernelspec": {
   "display_name": "Python 3",
   "language": "python",
   "name": "python3"
  },
  "language_info": {
   "codemirror_mode": {
    "name": "ipython",
    "version": 3
   },
   "file_extension": ".py",
   "mimetype": "text/x-python",
   "name": "python",
   "nbconvert_exporter": "python",
   "pygments_lexer": "ipython3",
   "version": "3.7.3"
  }
 },
 "nbformat": 4,
 "nbformat_minor": 2
}
