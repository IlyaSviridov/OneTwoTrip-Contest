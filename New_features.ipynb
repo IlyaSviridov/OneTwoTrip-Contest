{
 "cells": [
  {
   "cell_type": "markdown",
   "metadata": {},
   "source": [
    "## Генерация новых признаков.\n",
    "- Простые признаки\n",
    "- Признаки на основе информации всех данных одного пользователя\n",
    "- Статистические признаки\n",
    "- Признаки-отношения"
   ]
  },
  {
   "cell_type": "code",
   "execution_count": 1,
   "metadata": {},
   "outputs": [],
   "source": [
    "import pandas as pd\n",
    "import numpy as np\n",
    "import os\n",
    "import datetime\n",
    "from matplotlib import pyplot as plt\n",
    "import seaborn as sns\n",
    "import scipy.stats as stats\n",
    "%matplotlib inline\n",
    "import warnings\n",
    "warnings.filterwarnings('ignore')\n",
    "\n",
    "pd.set_option('display.max_columns', 100)"
   ]
  },
  {
   "cell_type": "code",
   "execution_count": 2,
   "metadata": {},
   "outputs": [],
   "source": [
    "PATH_TO_DATA = 'data/'\n",
    "train = pd.read_csv(os.path.join(PATH_TO_DATA, 'onetwotrip_challenge_train.csv'))\n",
    "test = pd.read_csv(os.path.join(PATH_TO_DATA, 'onetwotrip_challenge_test.csv'))\n",
    "\n",
    "full = pd.concat([train, test], join='inner')"
   ]
  },
  {
   "cell_type": "markdown",
   "metadata": {},
   "source": [
    "### 1.  Переименуем начальные признаки и добавим новые простые признаки."
   ]
  },
  {
   "cell_type": "markdown",
   "metadata": {},
   "source": [
    "Новые простые фичи:\n",
    "- number_all_buy - количество всех покупок одного человека\n",
    "- ticket_price - средняя цена одного билета по одной покупке\n",
    "- full_price_int - целочисленная цена покупки\n",
    "- flight_duration_int - целочисленное время полета"
   ]
  },
  {
   "cell_type": "code",
   "execution_count": 3,
   "metadata": {},
   "outputs": [],
   "source": [
    "unique14 = np.unique(full['field14'])\n",
    "new_unique14 = np.round(unique14 / 0.14006639 - 0.27860731).astype(int)\n",
    "dict14 = {unique14[i]: new_unique14[i] for i in range(len(unique14))}\n",
    "\n",
    "unique1 = np.unique(full['field1'])\n",
    "new_unique1 = np.round(unique1  / 0.077571 + 0.0765905).astype(int)\n",
    "dict1 = {unique1[i]: new_unique1[i] for i in range(len(unique1))}\n",
    "\n",
    "def new_simple_features(df):\n",
    "    \n",
    "    df.rename(columns={'field0': 'delta_buy_buy',\n",
    "                       'field1': 'full_price_scaled',\n",
    "                       'field2': 'buy_month',\n",
    "                       'field3': 'fly_month', \n",
    "                       'field4': 'buy_number', \n",
    "                       'field5': 'reg_ind', \n",
    "                       'field9': 'number_tickets_children_1',\n",
    "                       'field11': 'fly_hour',\n",
    "                       'field14': 'flight_duration_scaled',\n",
    "                       'field15': 'number_tickets',\n",
    "                       'field16': 'delta_fly_buy',\n",
    "                       'field18': 'buy_weekday',\n",
    "                       'field20': 'fly_weekday',\n",
    "                       'field21': 'buy_year',\n",
    "                       'field24': 'number_tickets_adult',\n",
    "                       'field28': 'number_tickets_children_2',\n",
    "                       'field29': 'buy_quarter'\n",
    "                      }, inplace=True)\n",
    "    \n",
    "    flight_quantity = dict(df['userid'].value_counts())\n",
    "    df['number_all_buy'] = df['userid'].apply(lambda x: flight_quantity[x])\n",
    "    df['ticket_price'] = df['full_price_scaled'] / df['number_tickets']\n",
    "    df['full_price_int'] = df['full_price_scaled'].apply(lambda x: dict1[x])\n",
    "    df['flight_duration_int'] = df['flight_duration_scaled'].apply(lambda x: dict14[x])\n",
    "    \n",
    "new_simple_features(train)\n",
    "new_simple_features(test)"
   ]
  },
  {
   "cell_type": "markdown",
   "metadata": {},
   "source": [
    "### 2. Теперь для каждого пользователя посчитаем новые признаки  \n",
    "Временные признаки (user_time_features):\n",
    "- cumsum_delta_buy_buy - вспомогательный признак. Накопительный признак delta_buy_buy.\n",
    "- delta_fly - количество дней с момента покупки до вылета.\n",
    "- quantity_buy_one_day - количество вылетов пользователя в день вылета (+ вчерашние и завтрашние) по покупке.\n",
    "- mean_quantity_buy_one_day - среднее количество вылетов в день для одного пользователя.\n",
    "- quantity_buy_one_day_averaged - quantity_buy_one_day усредненное по mean_quantity_buy_one_day\n",
    "- delta_fly_fly - дельта между датой полета по покупке и предыдущему полету\n",
    "\n",
    "Статистические признаки (user_statistical_features):  \n",
    "- Для большого количества признаков считаем mean и std одного пользователя.\n",
    "\n",
    "Признаки-отношения (new_ratio_features):  \n",
    "по формуле log(x + 1) - log(y + 1)\n",
    "- ratio_delta_fb_ff - delta_fly_buy & delta_fly_fly\n",
    "- ratio_delta_qbod_bf - quantity_buy_one_day & delta_fly_buy\n",
    "- ratio_price_duration - full_price_scaled & flight_duration_scaled\n",
    "- ratio_13_17 - field13 & field17\n",
    "- остальные смотри в new_ratio_features"
   ]
  },
  {
   "cell_type": "code",
   "execution_count": null,
   "metadata": {},
   "outputs": [],
   "source": [
    "def user_time_features(user):\n",
    "    user['cumsum_delta_buy_buy'] = np.cumsum(user['delta_buy_buy'])\n",
    "    user['delta_fly'] = user['cumsum_delta_buy_buy'] + user['delta_fly_buy']\n",
    "    \n",
    "    val_counts = user['delta_fly'].value_counts()\n",
    "    unique = val_counts.index\n",
    "    new_val_counts = dict()\n",
    "    for i in unique:\n",
    "        new_val_counts[i] = val_counts.get(i - 1, 0) + val_counts.get(i, 0) + val_counts.get(i + 1, 0)\n",
    "    user['quantity_buy_one_day'] = user['delta_fly'].apply(lambda x: new_val_counts[x])\n",
    "    \n",
    "    mean_count = np.asarray(list(new_val_counts.values())).mean()\n",
    "    user['mean_quantity_buy_one_day'] = mean_count\n",
    "    k = len(new_val_counts)\n",
    "    mean_count = (mean_count * k + 1 * 5) / (k + 5)\n",
    "    user['quantity_buy_one_day_averaged'] = user['delta_fly'].apply(lambda x: new_val_counts[x]) / mean_count\n",
    "    \n",
    "    delta_fly = np.asarray(user['delta_fly'])\n",
    "    delta_fly.sort()\n",
    "    delta_ff = np.append(0, delta_fly[1:] - delta_fly[:-1])\n",
    "    delta_ff_dict = dict(zip(delta_fly, delta_ff))\n",
    "    user['delta_fly_fly'] = user['delta_fly'].apply(lambda x: delta_ff_dict[x])\n",
    "\n",
    "    \n",
    "def user_statistical_features(user):\n",
    "    columns = ['delta_buy_buy', 'flight_duration_scaled', 'number_tickets', 'delta_fly_buy', \n",
    "               'field10', 'field12', 'field13', 'field17', 'field19', 'field22', 'field25', 'field26',\n",
    "               'field27', 'field6', 'field7', 'field8', 'delta_fly', 'quantity_buy_one_day',\n",
    "               'quantity_buy_one_day_averaged', 'mean_quantity_buy_one_day', 'delta_fly_fly', \n",
    "               'ticket_price', 'ratio_delta_fb_ff', 'ratio_delta_qbod_bf', 'ratio_price_duration',\n",
    "               'ratio_13_17', 'ratio_22_25', 'ratio_26_27', 'ratio_13_22', 'ratio_17_25', 'ratio_6_12'\n",
    "              ]\n",
    "    \n",
    "    for column in columns:\n",
    "        user[f'mean_{column}_user'] = np.mean(user[column])\n",
    "        user[f'std_{column}_user'] = np.std(user[column])\n",
    "\n",
    "def new_ratio_features(df):\n",
    "    df['ratio_delta_fb_ff'] = (np.log(df['delta_fly_buy'] + 1) - np.log(df['delta_fly_fly'] + 1))\n",
    "    df['ratio_delta_qbod_bf'] = (np.log(df['quantity_buy_one_day'] + 1) - np.log(df['delta_fly_buy'] + 1))\n",
    "    df['ratio_price_duration'] = (np.log(df['full_price_scaled'] + 1) - np.log(df['flight_duration_scaled'] + 1))\n",
    "    \n",
    "    df['ratio_13_17'] = (np.log(df['field13'] + 1) - np.log(df['field17'] + 1))\n",
    "    df['ratio_22_25'] = (np.log(df['field22'] + 1) - np.log(df['field25'] + 1))\n",
    "    df['ratio_26_27'] = (np.log(df['field26'] + 1) - np.log(df['field27'] + 1))\n",
    "    \n",
    "    df['ratio_13_22'] = (np.log(df['field13'] + 1) - np.log(df['field22'] + 1))\n",
    "    df['ratio_17_25'] = (np.log(df['field17'] + 1) - np.log(df['field25'] + 1))\n",
    "    df['ratio_6_12'] = (np.log(df['field6'] + 1) - np.log(df['field12'] + 1))\n",
    "        \n",
    "def new_user_features(df, left_border=0, right_border=0):\n",
    "    user_ids = np.unique(df['userid'])\n",
    "    if right_border == 0:\n",
    "        right_border = len(user_ids)\n",
    "    user_ids = user_ids[left_border: right_border]\n",
    "    df_new = pd.DataFrame()\n",
    "    \n",
    "    print(f'Total users: {right_border - left_border}')\n",
    "    i = 0\n",
    "    for user_id in user_ids:\n",
    "        user = df[df['userid'] == user_id]\n",
    "        user.sort_values(by=['buy_number'], inplace=True)\n",
    "        user_time_features(user)\n",
    "        user['number_all_user_tickets'] = np.sum(user['number_tickets'])\n",
    "        new_ratio_features(user)\n",
    "        user_statistical_features(user)\n",
    "\n",
    "        user.loc[user['buy_number'] == 1, 'delta_buy_buy'] = -999\n",
    "        user.loc[user['buy_number'] == 1, 'delta_fly_buy'] = -999\n",
    "        user.loc[user['buy_number'] == 1, 'delta_fly_fly'] = -999\n",
    "        print(f'Completed {i}', end='\\r')\n",
    "        i += 1\n",
    "        df_new = pd.concat([df_new, user])\n",
    "\n",
    "    return df_new"
   ]
  },
  {
   "cell_type": "markdown",
   "metadata": {},
   "source": [
    "Так как все эти операции занимают очень много времени для моего компьютера, то я разбивал на части, считал для кусков и сохранял."
   ]
  },
  {
   "cell_type": "code",
   "execution_count": null,
   "metadata": {},
   "outputs": [],
   "source": [
    "%%time\n",
    "I = 0\n",
    "test_new_1 = new_user_features(test, I * 10000, (I + 1) * 10000)\n",
    "\n",
    "test_new_1.to_csv(f'test_{I}.csv',index=False)"
   ]
  }
 ],
 "metadata": {
  "kernelspec": {
   "display_name": "Python 3",
   "language": "python",
   "name": "python3"
  },
  "language_info": {
   "codemirror_mode": {
    "name": "ipython",
    "version": 3
   },
   "file_extension": ".py",
   "mimetype": "text/x-python",
   "name": "python",
   "nbconvert_exporter": "python",
   "pygments_lexer": "ipython3",
   "version": "3.7.3"
  }
 },
 "nbformat": 4,
 "nbformat_minor": 2
}
